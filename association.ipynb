{
 "cells": [
  {
   "cell_type": "markdown",
   "metadata": {},
   "source": [
    "# Association\n",
    "\n",
    "Modelling the explicit labelling of observations from different population components and comparison with standard mixture modelling and clustering techniques.\n",
    "\n",
    "Model definition and simulation is done in `pyStan` with code in the `stan/` directory."
   ]
  },
  {
   "cell_type": "code",
   "execution_count": 15,
   "metadata": {
    "ExecuteTime": {
     "end_time": "2018-05-20T10:37:58.435315Z",
     "start_time": "2018-05-20T10:37:58.429933Z"
    }
   },
   "outputs": [],
   "source": [
    "%matplotlib inline\n",
    "from matplotlib import pyplot as plt\n",
    "import pystan"
   ]
  },
  {
   "cell_type": "markdown",
   "metadata": {},
   "source": [
    "## A simple mixture model\n",
    "\n",
    "Consider observations drawn from a mixture of 2 gaussian distributions with different means and the same standard deviation. Each population has an associated weight, $w$, the set of which forms a 2-simplex. The model can be parameterised with a latent categorical variable or *label*, $\\lambda$:\n",
    "\n",
    "<div><center>\n",
    "    $\\lambda \\sim Categorical(w)$   \n",
    "    <center></div>\n",
    "\n",
    "The observation $y_n$ is distributed according to which mixture componenet it is generated from.\n",
    "\n",
    "<div><center>\n",
    "    $y_n \\sim Normal(\\mu_n, \\sigma^2)$   \n",
    "    <center></div>\n",
    "    \n",
    "In order to treat this model in Stan, we marginalise over the discrete parameter:\n",
    "\n",
    "<div><center>\n",
    "    $p(y \\ | \\ w, \\mu, \\sigma) = \\sum_{k = 1}^2 Normal( y \\ | \\ \\mu_k, \\sigma^2) $  \n",
    "    <center></div>\n",
    "    \n",
    "  "
   ]
  },
  {
   "cell_type": "code",
   "execution_count": null,
   "metadata": {},
   "outputs": [],
   "source": [
    "# compile the simulation \n",
    "simu_file = 'stan/simple_mixture_sim.stan'\n",
    "model = pystan.StanModel(file = simu_file)"
   ]
  },
  {
   "cell_type": "code",
   "execution_count": 26,
   "metadata": {
    "ExecuteTime": {
     "end_time": "2018-05-20T10:40:42.337879Z",
     "start_time": "2018-05-20T10:40:42.176485Z"
    }
   },
   "outputs": [
    {
     "name": "stderr",
     "output_type": "stream",
     "text": [
      "/Users/fran/projects/bayes/lib/python3.6/site-packages/pystan/misc.py:399: FutureWarning: Conversion of the second argument of issubdtype from `float` to `np.floating` is deprecated. In future, it will be treated as `np.float64 == np.dtype(float).type`.\n",
      "  elif np.issubdtype(np.asarray(v).dtype, float):\n"
     ]
    },
    {
     "data": {
      "image/png": "[encoded data removed]",
      "text/plain": [
       "<Figure size 432x288 with 1 Axes>"
      ]
     },
     "metadata": {},
     "output_type": "display_data"
    }
   ],
   "source": [
    "# Use stan to simulate draws from this mixutre model\n",
    "simu_parameters = {'mu' : [10, 30],\n",
    "                   'sigma' : 3, \n",
    "                   'w' : [0.3, 0.7], \n",
    "                   'N_obs' : 100}\n",
    "\n",
    "fit = model.sampling(data = simu_parameters, algorithm = \"Fixed_param\", \n",
    "                     iter = 1, chains = 1, seed = 19920715)\n",
    "\n",
    "# plot the simulation\n",
    "y_simu = fit.extract(['y'])['y'][0]\n",
    "plt.hist(y_simu);\n",
    "\n",
    "# dump the data to a file"
   ]
  },
  {
   "cell_type": "code",
   "execution_count": 25,
   "metadata": {
    "ExecuteTime": {
     "end_time": "2018-05-20T10:39:57.337194Z",
     "start_time": "2018-05-20T10:39:57.186932Z"
    }
   },
   "outputs": [
    {
     "data": {
      "image/png": "[encoded data removed]",
      "text/plain": [
       "<Figure size 432x288 with 1 Axes>"
      ]
     },
     "metadata": {},
     "output_type": "display_data"
    }
   ],
   "source": []
  },
  {
   "cell_type": "code",
   "execution_count": null,
   "metadata": {},
   "outputs": [],
   "source": []
  }
 ],
 "metadata": {
  "kernelspec": {
   "display_name": "Python (bayes)",
   "language": "python",
   "name": "bayes"
  },
  "language_info": {
   "codemirror_mode": {
    "name": "ipython",
    "version": 3
   },
   "file_extension": ".py",
   "mimetype": "text/x-python",
   "name": "python",
   "nbconvert_exporter": "python",
   "pygments_lexer": "ipython3",
   "version": "3.6.4"
  }
 },
 "nbformat": 4,
 "nbformat_minor": 2
}
