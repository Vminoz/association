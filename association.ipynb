{
 "cells": [
  {
   "cell_type": "markdown",
   "metadata": {},
   "source": [
    "# Association\n",
    "\n",
    "Modelling the explicit labelling of observations from different population components.\n",
    "\n",
    "Model definition and simulation is done using pyStan with code in the `stan/` directory."
   ]
  },
  {
   "cell_type": "code",
   "execution_count": 1,
   "metadata": {
    "ExecuteTime": {
     "end_time": "2018-06-22T09:37:40.727143Z",
     "start_time": "2018-06-22T09:37:38.944317Z"
    }
   },
   "outputs": [],
   "source": [
    "%matplotlib inline\n",
    "from matplotlib import pyplot as plt\n",
    "import numpy as np\n",
    "import pystan\n",
    "import stan_utility"
   ]
  },
  {
   "cell_type": "code",
   "execution_count": 2,
   "metadata": {
    "ExecuteTime": {
     "end_time": "2018-06-22T09:38:05.863504Z",
     "start_time": "2018-06-22T09:38:05.411549Z"
    }
   },
   "outputs": [],
   "source": [
    "# for nice plots when shown on GitHub nb viewer\n",
    "import seaborn as sns\n",
    "sns.set_context('talk')\n",
    "sns.set_style('ticks')\n",
    "sns.set_palette('colorblind')"
   ]
  },
  {
   "cell_type": "markdown",
   "metadata": {},
   "source": [
    "## A simple mixture model\n",
    "\n",
    "Consider observations drawn from a mixture of 2 gaussian distributions with different means and the same standard deviation. Each population has an associated weight, $w$, the set of which forms a 2-simplex. The model can be parameterised with a latent categorical variable or *label*, $\\lambda$:\n",
    "\n",
    "$$\n",
    "\\lambda \\sim Categorical(w) \n",
    "$$\n",
    "\n",
    "The observation $y_n$ is distributed according to which mixture componenet it is generated from.\n",
    "\n",
    "$$\n",
    "y_k \\sim Normal(\\mu_k, \\sigma^2)   \n",
    "$$\n",
    "    \n",
    "In order to treat this model in Stan, we marginalise over the discrete parameter:\n",
    "\n",
    "$$\n",
    "p(y \\ | \\ w, \\mu, \\sigma) = \\sum_{k = 1}^2 w_k Normal( y \\ | \\ \\mu_k, \\sigma^2)\n",
    "$$\n",
    "    \n",
    "  "
   ]
  },
  {
   "cell_type": "code",
   "execution_count": 3,
   "metadata": {
    "ExecuteTime": {
     "end_time": "2018-06-22T09:38:15.575903Z",
     "start_time": "2018-06-22T09:38:15.548910Z"
    }
   },
   "outputs": [
    {
     "name": "stdout",
     "output_type": "stream",
     "text": [
      "Using cached StanModel\n"
     ]
    }
   ],
   "source": [
    "# compile the stan simulation\n",
    "simu_file = 'stan/simple_mixture_sim.stan'\n",
    "simulation = stan_utility.compile_model(filename = simu_file)"
   ]
  },
  {
   "cell_type": "code",
   "execution_count": 4,
   "metadata": {
    "ExecuteTime": {
     "end_time": "2018-06-22T09:38:17.143590Z",
     "start_time": "2018-06-22T09:38:16.844012Z"
    }
   },
   "outputs": [
    {
     "name": "stderr",
     "output_type": "stream",
     "text": [
      "/Users/fran/projects/bayes/lib/python3.6/site-packages/pystan/misc.py:399: FutureWarning: Conversion of the second argument of issubdtype from `float` to `np.floating` is deprecated. In future, it will be treated as `np.float64 == np.dtype(float).type`.\n",
      "  elif np.issubdtype(np.asarray(v).dtype, float):\n"
     ]
    },
    {
     "data": {
      "image/png": "[encoded data removed]",
      "text/plain": [
       "<Figure size 432x288 with 1 Axes>"
      ]
     },
     "metadata": {},
     "output_type": "display_data"
    }
   ],
   "source": [
    "# Use stan to simulate draws from this mixutre model\n",
    "simu_parameters = {'mu' : [15, 25],\n",
    "                   'sigma' : 3, \n",
    "                   'w' : [0.3, 0.7], \n",
    "                   'N_obs' : 1000}\n",
    "\n",
    "simu = simulation.sampling(data = simu_parameters, algorithm = \"Fixed_param\", \n",
    "                     iter = 1, chains = 1, seed = 19920715)\n",
    "\n",
    "# plot the simulation\n",
    "y_simu = simu.extract(['y'])['y'][0]\n",
    "plt.hist(y_simu);\n",
    "\n",
    "# dump the simulated data to a file\n",
    "simu_data = {'N_obs' : len(y_simu), 'y' : y_simu}\n",
    "data_file = 'data/simple_mixture.data.R'\n",
    "pystan.stan_rdump(simu_data, data_file)"
   ]
  },
  {
   "cell_type": "code",
   "execution_count": 5,
   "metadata": {
    "ExecuteTime": {
     "end_time": "2018-06-22T09:38:20.874863Z",
     "start_time": "2018-06-22T09:38:20.835768Z"
    }
   },
   "outputs": [
    {
     "name": "stdout",
     "output_type": "stream",
     "text": [
      "Using cached StanModel\n"
     ]
    }
   ],
   "source": [
    "# compile the stan model\n",
    "model_file = 'stan/simple_mixture.stan'\n",
    "model = stan_utility.compile_model(filename = model_file)"
   ]
  },
  {
   "cell_type": "code",
   "execution_count": 6,
   "metadata": {
    "ExecuteTime": {
     "end_time": "2018-06-22T09:38:29.209859Z",
     "start_time": "2018-06-22T09:38:21.979700Z"
    },
    "scrolled": true
   },
   "outputs": [
    {
     "name": "stderr",
     "output_type": "stream",
     "text": [
      "/Users/fran/projects/bayes/lib/python3.6/site-packages/pystan/misc.py:399: FutureWarning: Conversion of the second argument of issubdtype from `float` to `np.floating` is deprecated. In future, it will be treated as `np.float64 == np.dtype(float).type`.\n",
      "  elif np.issubdtype(np.asarray(v).dtype, float):\n"
     ]
    },
    {
     "name": "stdout",
     "output_type": "stream",
     "text": [
      "Inference for Stan model: anon_model_72b8af4e8332afb48865a8b41b83c449.\n",
      "4 chains, each with iter=1000; warmup=500; thin=1; \n",
      "post-warmup draws per chain=500, total post-warmup draws=2000.\n",
      "\n",
      "        mean se_mean     sd   2.5%    25%    50%    75%  97.5%  n_eff   Rhat\n",
      "w[0]    0.28  4.6e-4   0.02   0.25   0.27   0.28   0.29   0.31   1326    1.0\n",
      "w[1]    0.72  4.6e-4   0.02   0.69   0.71   0.72   0.73   0.75   1326    1.0\n",
      "mu[0]  14.97  6.5e-3   0.22  14.53  14.82  14.96  15.12  15.42   1203    1.0\n",
      "mu[1]  24.88  2.9e-3   0.13  24.63  24.79  24.88  24.97  25.14   2000    1.0\n",
      "sigma    3.0  2.1e-3   0.08   2.85   2.95    3.0   3.05   3.16   1466    1.0\n",
      "lp__   -2997    0.05   1.37  -3000  -2997  -2996  -2996  -2995    781    1.0\n",
      "\n",
      "Samples were drawn using NUTS at Fri Jun 22 11:38:29 2018.\n",
      "For each parameter, n_eff is a crude measure of effective sample size,\n",
      "and Rhat is the potential scale reduction factor on split chains (at \n",
      "convergence, Rhat=1).\n"
     ]
    }
   ],
   "source": [
    "# fit the stan model\n",
    "data = pystan.read_rdump(data_file)\n",
    "\n",
    "fit = model.sampling(data = data, iter = 1000, chains = 4, seed = 19920715)\n",
    "print(fit)"
   ]
  },
  {
   "cell_type": "code",
   "execution_count": 7,
   "metadata": {
    "ExecuteTime": {
     "end_time": "2018-06-22T09:38:29.435497Z",
     "start_time": "2018-06-22T09:38:29.212506Z"
    }
   },
   "outputs": [
    {
     "data": {
      "text/plain": [
       "<matplotlib.legend.Legend at 0x10b82a7f0>"
      ]
     },
     "execution_count": 7,
     "metadata": {},
     "output_type": "execute_result"
    },
    {
     "data": {
      "image/png": "[encoded data removed]",
      "text/plain": [
       "<Figure size 432x288 with 1 Axes>"
      ]
     },
     "metadata": {},
     "output_type": "display_data"
    }
   ],
   "source": [
    "# plot the fit mu onto the simulated data\n",
    "mu = fit.extract(['mu'])['mu'][0]\n",
    "plt.hist(y_simu, label = 'simulation');\n",
    "plt.vlines([mu[0], mu[1]], 0, 350, \n",
    "           linewidth = 7, alpha = 0.5, label = 'fit')\n",
    "plt.legend()"
   ]
  },
  {
   "cell_type": "markdown",
   "metadata": {},
   "source": [
    "## Explicit modelling of the association\n",
    "\n",
    "In more physical applications, we want to know the rigorous probability for the association of an observation $y_i$ with a population component $k$. In order to do this, we basically want the marginal posterior for $\\lambda$.\n",
    "\n",
    "There are two things we can do in Stan to provide some useful information on this probability. \n",
    "\n",
    "* Save the values of the log probability `lp[i, k]` which correspsonds to $p(\\lambda, y | \\mu, \\sigma)$. These can be marginalised to give $p(\\lambda | \\mu, \\sigma, y)$\n",
    "* Generate discrete samples based on `lp[i, k]` using a categorical RNG."
   ]
  },
  {
   "cell_type": "code",
   "execution_count": 8,
   "metadata": {
    "ExecuteTime": {
     "end_time": "2018-06-22T09:38:49.734560Z",
     "start_time": "2018-06-22T09:38:49.703016Z"
    }
   },
   "outputs": [
    {
     "name": "stdout",
     "output_type": "stream",
     "text": [
      "Using cached StanModel\n"
     ]
    }
   ],
   "source": [
    "# compile a new model for the problem\n",
    "explicit_model_file = 'stan/simple_mixture_explicit.stan'\n",
    "explicit_model = stan_utility.compile_model(filename = explicit_model_file)"
   ]
  },
  {
   "cell_type": "code",
   "execution_count": 9,
   "metadata": {
    "ExecuteTime": {
     "end_time": "2018-06-22T09:39:02.324182Z",
     "start_time": "2018-06-22T09:38:51.071332Z"
    },
    "scrolled": true
   },
   "outputs": [
    {
     "name": "stderr",
     "output_type": "stream",
     "text": [
      "/Users/fran/projects/bayes/lib/python3.6/site-packages/pystan/misc.py:399: FutureWarning: Conversion of the second argument of issubdtype from `float` to `np.floating` is deprecated. In future, it will be treated as `np.float64 == np.dtype(float).type`.\n",
      "  elif np.issubdtype(np.asarray(v).dtype, float):\n",
      "WARNING:root:`dtypes` ignored when `permuted` is False.\n"
     ]
    }
   ],
   "source": [
    "# fit this model\n",
    "explicit_fit = explicit_model.sampling(data = data, iter = 1000, \n",
    "                                       chains = 4, seed = 19920715)\n",
    "\n",
    "# avoid printing the fit, as now mnay parameters\n",
    "#print(explicit_fit)\n",
    "ex = explicit_fit.extract(permuted = False)"
   ]
  },
  {
   "cell_type": "code",
   "execution_count": 10,
   "metadata": {
    "ExecuteTime": {
     "end_time": "2018-06-22T09:39:02.694790Z",
     "start_time": "2018-06-22T09:39:02.326090Z"
    }
   },
   "outputs": [
    {
     "data": {
      "image/png": "[encoded data removed]",
      "text/plain": [
       "<Figure size 432x288 with 1 Axes>"
      ]
     },
     "metadata": {},
     "output_type": "display_data"
    }
   ],
   "source": [
    "# plot the sampled labels (bit boring as we only have 2 components)\n",
    "lam = explicit_fit.extract(['lambda'])['lambda'][0]\n",
    "plt.hist(lam);"
   ]
  },
  {
   "cell_type": "markdown",
   "metadata": {},
   "source": [
    "### Probability that observation $i$ comes from component $k$\n",
    "\n",
    "For each observation $y_i$, the value of the log probability `lp[i, k]` is the log of $p(\\lambda = k, y_i | \\mu, \\sigma)$. Averaging over the posterior draws gives $q(\\lambda = k | y_i, \\mu, \\sigma)$, which can be normalised to give the final result:\n",
    "\n",
    "$$\n",
    "p(\\lambda = k | y_i, \\mu, \\sigma) = \\frac{q(\\lambda = k | y_i, \\mu, \\sigma)}{\\sum_l q(\\lambda = l | y_i, \\mu, \\sigma)}\n",
    "$$"
   ]
  },
  {
   "cell_type": "code",
   "execution_count": 11,
   "metadata": {
    "ExecuteTime": {
     "end_time": "2018-06-22T09:39:10.219277Z",
     "start_time": "2018-06-22T09:39:09.577605Z"
    }
   },
   "outputs": [
    {
     "data": {
      "text/plain": [
       "<matplotlib.legend.Legend at 0x10a1d8da0>"
      ]
     },
     "execution_count": 11,
     "metadata": {},
     "output_type": "execute_result"
    },
    {
     "data": {
      "image/png": "[encoded data removed]",
      "text/plain": [
       "<Figure size 432x288 with 1 Axes>"
      ]
     },
     "metadata": {},
     "output_type": "display_data"
    }
   ],
   "source": [
    "# answer: what is the probability that observation i comes from component k?\n",
    "\n",
    "# find relevant starting index to extract\n",
    "i_y0_l0 = 5 \n",
    "i_y0_l1 = 5 + 1000\n",
    "\n",
    "# find normalised marginal probability \n",
    "# associated with each observation\n",
    "lp_l0 = []\n",
    "lp_l1 = []\n",
    "prob_l0 = []\n",
    "prob_l1 = []\n",
    "for i in range(len(y_simu)):\n",
    "    # extract all iterations for all chains\n",
    "    lp_i_l0 = np.transpose(ex)[i_y0_l0 + i][:][:].flatten()\n",
    "    lp_i_l1 = np.transpose(ex)[i_y0_l1 + i][:][:].flatten()\n",
    "    # exponentiate and average\n",
    "    lp_l0.append(np.mean(np.exp(lp_i_l0)))\n",
    "    lp_l1.append(np.mean(np.exp(lp_i_l1)))\n",
    "    # normalise\n",
    "    norm = (lp_l0[i] + lp_l1[i])\n",
    "    prob_l0.append(lp_l0[i] / norm)\n",
    "    prob_l1.append(lp_l1[i] / norm)\n",
    "\n",
    "# plot the probabilities for different values of y_i\n",
    "plt.scatter(y_simu, prob_l0, alpha = 0.7, label = 'p($\\lambda = 0$ | y)')\n",
    "plt.scatter(y_simu, prob_l1, alpha = 0.7, label = 'p($\\lambda = 1$ | y)')\n",
    "plt.legend()"
   ]
  },
  {
   "cell_type": "code",
   "execution_count": null,
   "metadata": {},
   "outputs": [],
   "source": []
  }
 ],
 "metadata": {
  "kernelspec": {
   "display_name": "Python (bayes)",
   "language": "python",
   "name": "bayes"
  },
  "language_info": {
   "codemirror_mode": {
    "name": "ipython",
    "version": 3
   },
   "file_extension": ".py",
   "mimetype": "text/x-python",
   "name": "python",
   "nbconvert_exporter": "python",
   "pygments_lexer": "ipython3",
   "version": "3.6.4"
  }
 },
 "nbformat": 4,
 "nbformat_minor": 2
}
