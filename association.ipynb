{
 "cells": [
  {
   "cell_type": "markdown",
   "metadata": {},
   "source": [
    "# Association\n",
    "\n",
    "Modelling the explicit labelling of observations from different population components.\n",
    "\n",
    "Model definition and simulation is done using pyStan with code in the `stan/` directory."
   ]
  },
  {
   "cell_type": "code",
   "execution_count": 1,
   "metadata": {
    "ExecuteTime": {
     "end_time": "2021-02-01T20:47:53.760880Z",
     "start_time": "2021-02-01T20:47:53.326837Z"
    }
   },
   "outputs": [],
   "source": [
    "%matplotlib inline\n",
    "from matplotlib import pyplot as plt\n",
    "import numpy as np\n",
    "import cmdstanpy"
   ]
  },
  {
   "cell_type": "code",
   "execution_count": 2,
   "metadata": {},
   "outputs": [],
   "source": [
    "# for nice plots when shown on GitHub nb viewer\n",
    "import seaborn as sns\n",
    "sns.set_context('talk')\n",
    "sns.set_style('ticks')\n",
    "sns.set_palette('colorblind')"
   ]
  },
  {
   "cell_type": "markdown",
   "metadata": {},
   "source": [
    "## A simple mixture model\n",
    "\n",
    "Consider observations drawn from a mixture of 2 gaussian distributions with different means and the same standard deviation. Each population has an associated weight, $w$, the set of which forms a 2-simplex. The model can be parameterised with a latent categorical variable or *label*, $\\lambda$:\n",
    "\n",
    "$$\n",
    "\\lambda \\sim Categorical(w) \n",
    "$$\n",
    "\n",
    "The observation $y_n$ is distributed according to which mixture componenet it is generated from.\n",
    "\n",
    "$$\n",
    "y_k \\sim Normal(\\mu_k, \\sigma^2)   \n",
    "$$\n",
    "    \n",
    "In order to treat this model in Stan, we marginalise over the discrete parameter:\n",
    "\n",
    "$$\n",
    "p(y \\ | \\ w, \\mu, \\sigma) = \\sum_{k = 1}^2 w_k Normal( y \\ | \\ \\mu_k, \\sigma^2)\n",
    "$$\n",
    "    \n",
    "  "
   ]
  },
  {
   "cell_type": "code",
   "execution_count": 4,
   "metadata": {
    "ExecuteTime": {
     "end_time": "2021-02-01T20:49:52.622946Z",
     "start_time": "2021-02-01T20:49:44.526574Z"
    }
   },
   "outputs": [
    {
     "name": "stderr",
     "output_type": "stream",
     "text": [
      "INFO:cmdstanpy:compiling stan program, exe file: /Users/fran/projects/association/stan/simple_mixture_sim\n",
      "INFO:cmdstanpy:compiler options: stanc_options=None, cpp_options=None\n",
      "INFO:cmdstanpy:compiled model file: /Users/fran/projects/association/stan/simple_mixture_sim\n"
     ]
    }
   ],
   "source": [
    "# compile the stan simulation\n",
    "simu_file = 'stan/simple_mixture_sim.stan'\n",
    "simulation = cmdstanpy.CmdStanModel(stan_file=simu_file)"
   ]
  },
  {
   "cell_type": "code",
   "execution_count": 6,
   "metadata": {
    "ExecuteTime": {
     "end_time": "2021-02-01T20:51:49.050936Z",
     "start_time": "2021-02-01T20:51:48.874407Z"
    }
   },
   "outputs": [
    {
     "name": "stderr",
     "output_type": "stream",
     "text": [
      "INFO:cmdstanpy:start chain 1\n",
      "INFO:cmdstanpy:finish chain 1\n"
     ]
    },
    {
     "data": {
      "image/png": "[encoded data removed]",
      "text/plain": [
       "<Figure size 432x288 with 1 Axes>"
      ]
     },
     "metadata": {
      "needs_background": "light"
     },
     "output_type": "display_data"
    }
   ],
   "source": [
    "# Use stan to simulate draws from this mixutre model\n",
    "simu_parameters = {'mu' : [15, 25],\n",
    "                   'sigma' : 3, \n",
    "                   'w' : [0.3, 0.7], \n",
    "                   'N_obs' : 1000}\n",
    "\n",
    "simu = simulation.sample(data=simu_parameters, fixed_param=True, \n",
    "                         iter_sampling=1, chains=1, seed=42)\n",
    "\n",
    "# plot the simulation\n",
    "y_simu = simu.stan_variable(\"y\").values[0]\n",
    "plt.hist(y_simu);"
   ]
  },
  {
   "cell_type": "code",
   "execution_count": 7,
   "metadata": {
    "ExecuteTime": {
     "end_time": "2021-02-01T20:52:18.106459Z",
     "start_time": "2021-02-01T20:52:09.933249Z"
    }
   },
   "outputs": [
    {
     "name": "stderr",
     "output_type": "stream",
     "text": [
      "INFO:cmdstanpy:compiling stan program, exe file: /Users/fran/projects/association/stan/simple_mixture\n",
      "INFO:cmdstanpy:compiler options: stanc_options=None, cpp_options=None\n",
      "INFO:cmdstanpy:compiled model file: /Users/fran/projects/association/stan/simple_mixture\n"
     ]
    }
   ],
   "source": [
    "# compile the stan model\n",
    "model_file = 'stan/simple_mixture.stan'\n",
    "model = cmdstanpy.CmdStanModel(stan_file=model_file)"
   ]
  },
  {
   "cell_type": "code",
   "execution_count": 10,
   "metadata": {
    "ExecuteTime": {
     "end_time": "2021-02-01T20:53:18.111845Z",
     "start_time": "2021-02-01T20:53:13.183192Z"
    },
    "scrolled": true
   },
   "outputs": [
    {
     "name": "stderr",
     "output_type": "stream",
     "text": [
      "INFO:cmdstanpy:start chain 1\n",
      "INFO:cmdstanpy:finish chain 1\n"
     ]
    }
   ],
   "source": [
    "# fit the stan model\n",
    "data = {'N_obs' : len(y_simu), 'y' : y_simu}\n",
    "\n",
    "fit = model.sample(data=data, iter_sampling=1000, chains=1, seed=42)\n",
    "#print(fit)"
   ]
  },
  {
   "cell_type": "code",
   "execution_count": 14,
   "metadata": {
    "ExecuteTime": {
     "end_time": "2021-02-01T20:54:27.696975Z",
     "start_time": "2021-02-01T20:54:27.531648Z"
    }
   },
   "outputs": [
    {
     "data": {
      "text/plain": [
       "<matplotlib.legend.Legend at 0x126d09be0>"
      ]
     },
     "execution_count": 14,
     "metadata": {},
     "output_type": "execute_result"
    },
    {
     "data": {
      "image/png": "[encoded data removed]",
      "text/plain": [
       "<Figure size 432x288 with 1 Axes>"
      ]
     },
     "metadata": {
      "needs_background": "light"
     },
     "output_type": "display_data"
    }
   ],
   "source": [
    "# plot the fit mu onto the simulated data\n",
    "mu = fit.stan_variable(\"mu\").values[0]\n",
    "plt.hist(y_simu, label = 'simulation');\n",
    "plt.vlines([mu[0], mu[1]], 0, 350, \n",
    "           linewidth = 7, alpha = 0.5, label = 'fit', color='k')\n",
    "plt.legend()"
   ]
  },
  {
   "cell_type": "markdown",
   "metadata": {},
   "source": [
    "## Explicit modelling of the association\n",
    "\n",
    "In more physical applications, we want to know the rigorous probability for the association of an observation $y_i$ with a population component $k$. In order to do this, we basically want the marginal posterior for $\\lambda$.\n",
    "\n",
    "There are two things we can do in Stan to provide some useful information on this probability. \n",
    "\n",
    "* Save the values of the log probability `lp[i, k]` which correspsonds to $p(\\lambda, y | \\mu, \\sigma)$. These can be marginalised to give $p(\\lambda | \\mu, \\sigma, y)$\n",
    "* Generate discrete samples based on `lp[i, k]` using a categorical RNG."
   ]
  },
  {
   "cell_type": "code",
   "execution_count": 15,
   "metadata": {
    "ExecuteTime": {
     "end_time": "2021-02-01T20:55:03.065589Z",
     "start_time": "2021-02-01T20:54:51.980146Z"
    }
   },
   "outputs": [
    {
     "name": "stderr",
     "output_type": "stream",
     "text": [
      "INFO:cmdstanpy:compiling stan program, exe file: /Users/fran/projects/association/stan/simple_mixture_explicit\n",
      "INFO:cmdstanpy:compiler options: stanc_options=None, cpp_options=None\n",
      "INFO:cmdstanpy:compiled model file: /Users/fran/projects/association/stan/simple_mixture_explicit\n"
     ]
    }
   ],
   "source": [
    "# compile a new model for the problem\n",
    "explicit_model_file = 'stan/simple_mixture_explicit.stan'\n",
    "explicit_model = cmdstanpy.CmdStanModel(stan_file=explicit_model_file)"
   ]
  },
  {
   "cell_type": "code",
   "execution_count": 25,
   "metadata": {
    "ExecuteTime": {
     "end_time": "2021-02-01T21:07:16.043854Z",
     "start_time": "2021-02-01T21:07:07.231172Z"
    },
    "scrolled": true
   },
   "outputs": [
    {
     "name": "stderr",
     "output_type": "stream",
     "text": [
      "INFO:cmdstanpy:start chain 1\n",
      "INFO:cmdstanpy:start chain 2\n",
      "INFO:cmdstanpy:start chain 3\n",
      "INFO:cmdstanpy:start chain 4\n",
      "INFO:cmdstanpy:finish chain 3\n",
      "INFO:cmdstanpy:finish chain 2\n",
      "INFO:cmdstanpy:finish chain 4\n",
      "INFO:cmdstanpy:finish chain 1\n"
     ]
    }
   ],
   "source": [
    "# fit this model\n",
    "explicit_fit = explicit_model.sample(data=data, iter_sampling=1000, \n",
    "                                     chains=4, seed=42)\n"
   ]
  },
  {
   "cell_type": "code",
   "execution_count": 26,
   "metadata": {
    "ExecuteTime": {
     "end_time": "2021-02-01T21:07:20.215789Z",
     "start_time": "2021-02-01T21:07:16.046761Z"
    }
   },
   "outputs": [
    {
     "data": {
      "image/png": "[encoded data removed]",
      "text/plain": [
       "<Figure size 432x288 with 1 Axes>"
      ]
     },
     "metadata": {
      "needs_background": "light"
     },
     "output_type": "display_data"
    }
   ],
   "source": [
    "# plot the sampled labels (bit boring as we only have 2 components)\n",
    "lam = explicit_fit.stan_variable(\"lambda\").values[0]\n",
    "plt.hist(lam);"
   ]
  },
  {
   "cell_type": "markdown",
   "metadata": {},
   "source": [
    "### Probability that observation $i$ comes from component $k$\n",
    "\n",
    "For each observation $y_i$, the value of the log probability `lp[i, k]` is the log of $p(\\lambda = k, y_i | \\mu, \\sigma)$. Averaging over the posterior draws gives $q(\\lambda = k | y_i, \\mu, \\sigma)$, which can be normalised to give the final result:\n",
    "\n",
    "$$\n",
    "p(\\lambda = k | y_i, \\mu, \\sigma) = \\frac{q(\\lambda = k | y_i, \\mu, \\sigma)}{\\sum_l q(\\lambda = l | y_i, \\mu, \\sigma)}\n",
    "$$"
   ]
  },
  {
   "cell_type": "code",
   "execution_count": 35,
   "metadata": {
    "ExecuteTime": {
     "end_time": "2021-02-01T21:11:20.982179Z",
     "start_time": "2021-02-01T21:11:20.934179Z"
    }
   },
   "outputs": [
    {
     "data": {
      "text/plain": [
       "(1000, 2, 4000)"
      ]
     },
     "execution_count": 35,
     "metadata": {},
     "output_type": "execute_result"
    }
   ],
   "source": [
    "logprob = explicit_fit.stan_variable(\"lp\").values\n",
    "logprob = logprob.reshape(4000, 2, len(y_simu))\n",
    "logprob = logprob.transpose(2, 1, 0)\n",
    "np.shape(logprob)"
   ]
  },
  {
   "cell_type": "code",
   "execution_count": 38,
   "metadata": {
    "ExecuteTime": {
     "end_time": "2021-02-01T21:13:10.553739Z",
     "start_time": "2021-02-01T21:13:10.252607Z"
    }
   },
   "outputs": [
    {
     "data": {
      "text/plain": [
       "<matplotlib.legend.Legend at 0x127ef2970>"
      ]
     },
     "execution_count": 38,
     "metadata": {},
     "output_type": "execute_result"
    },
    {
     "data": {
      "image/png": "[encoded data removed]",
      "text/plain": [
       "<Figure size 432x288 with 1 Axes>"
      ]
     },
     "metadata": {
      "needs_background": "light"
     },
     "output_type": "display_data"
    }
   ],
   "source": [
    "# answer: what is the probability that observation i comes from component k?\n",
    "\n",
    "# find normalised marginal probability \n",
    "# associated with each observation\n",
    "lp_l0 = []\n",
    "lp_l1 = []\n",
    "prob_l0 = []\n",
    "prob_l1 = []\n",
    "for i in range(len(y_simu)):\n",
    "    # extract all iterations for all chains\n",
    "    lp_i_l0 = logprob[i][0]\n",
    "    lp_i_l1 = logprob[i][1]\n",
    "    # exponentiate and average\n",
    "    lp_l0.append(np.mean(np.exp(lp_i_l0)))\n",
    "    lp_l1.append(np.mean(np.exp(lp_i_l1)))\n",
    "    # normalise\n",
    "    norm = (lp_l0[i] + lp_l1[i])\n",
    "    prob_l0.append(lp_l0[i] / norm)\n",
    "    prob_l1.append(lp_l1[i] / norm)\n",
    "\n",
    "# plot the probabilities for different values of y_i\n",
    "plt.scatter(y_simu, prob_l0, alpha = 0.7, label = 'p($\\lambda = 0$ | y)')\n",
    "plt.scatter(y_simu, prob_l1, alpha = 0.7, label = 'p($\\lambda = 1$ | y)')\n",
    "plt.legend()"
   ]
  },
  {
   "cell_type": "code",
   "execution_count": null,
   "metadata": {},
   "outputs": [],
   "source": []
  }
 ],
 "metadata": {
  "kernelspec": {
   "display_name": "bayes",
   "language": "python",
   "name": "bayes"
  },
  "language_info": {
   "codemirror_mode": {
    "name": "ipython",
    "version": 3
   },
   "file_extension": ".py",
   "mimetype": "text/x-python",
   "name": "python",
   "nbconvert_exporter": "python",
   "pygments_lexer": "ipython3",
   "version": "3.8.7"
  }
 },
 "nbformat": 4,
 "nbformat_minor": 2
}
