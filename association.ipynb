{
 "cells": [
  {
   "cell_type": "markdown",
   "metadata": {},
   "source": [
    "# Association\n",
    "\n",
    "Modelling the explicit labelling of observations from different population components and comparison with standard mixture modelling and clustering techniques.\n",
    "\n",
    "Model definition and simulation is done in `pyStan` with code in the `stan/` directory."
   ]
  },
  {
   "cell_type": "code",
   "execution_count": 68,
   "metadata": {
    "ExecuteTime": {
     "end_time": "2018-05-20T12:13:38.295233Z",
     "start_time": "2018-05-20T12:13:38.285094Z"
    }
   },
   "outputs": [],
   "source": [
    "%matplotlib inline\n",
    "from matplotlib import pyplot as plt\n",
    "import pystan\n",
    "import stan_utility\n",
    "import vapeplot\n",
    "vapeplot.set_palette('vaporwave')"
   ]
  },
  {
   "cell_type": "markdown",
   "metadata": {},
   "source": [
    "## A simple mixture model\n",
    "\n",
    "Consider observations drawn from a mixture of 2 gaussian distributions with different means and the same standard deviation. Each population has an associated weight, $w$, the set of which forms a 2-simplex. The model can be parameterised with a latent categorical variable or *label*, $\\lambda$:\n",
    "\n",
    "<div><center>\n",
    "    $\\lambda \\sim Categorical(w)$   \n",
    "    <center></div>\n",
    "\n",
    "The observation $y_n$ is distributed according to which mixture componenet it is generated from.\n",
    "\n",
    "<div><center>\n",
    "    $y_k \\sim Normal(\\mu_k, \\sigma^2)$   \n",
    "    <center></div>\n",
    "    \n",
    "In order to treat this model in Stan, we marginalise over the discrete parameter:\n",
    "\n",
    "<div><center>\n",
    "    $p(y \\ | \\ w, \\mu, \\sigma) = \\sum_{k = 1}^2 Normal( y \\ | \\ \\mu_k, \\sigma^2) $  \n",
    "    <center></div>\n",
    "    \n",
    "  "
   ]
  },
  {
   "cell_type": "code",
   "execution_count": 71,
   "metadata": {
    "ExecuteTime": {
     "end_time": "2018-05-20T12:14:35.288629Z",
     "start_time": "2018-05-20T12:14:35.275424Z"
    }
   },
   "outputs": [
    {
     "name": "stdout",
     "output_type": "stream",
     "text": [
      "Using cached StanModel\n"
     ]
    }
   ],
   "source": [
    "# compile the stan simulation\n",
    "simu_file = 'stan/simple_mixture_sim.stan'\n",
    "simulation = stan_utility.compile_model(filename = simu_file)"
   ]
  },
  {
   "cell_type": "code",
   "execution_count": 78,
   "metadata": {
    "ExecuteTime": {
     "end_time": "2018-05-20T12:29:12.279711Z",
     "start_time": "2018-05-20T12:29:12.036648Z"
    }
   },
   "outputs": [
    {
     "name": "stderr",
     "output_type": "stream",
     "text": [
      "/Users/fran/projects/bayes/lib/python3.6/site-packages/pystan/misc.py:399: FutureWarning: Conversion of the second argument of issubdtype from `float` to `np.floating` is deprecated. In future, it will be treated as `np.float64 == np.dtype(float).type`.\n",
      "  elif np.issubdtype(np.asarray(v).dtype, float):\n"
     ]
    },
    {
     "data": {
      "image/png": "[encoded data removed]",
      "text/plain": [
       "<Figure size 432x288 with 1 Axes>"
      ]
     },
     "metadata": {},
     "output_type": "display_data"
    }
   ],
   "source": [
    "# Use stan to simulate draws from this mixutre model\n",
    "simu_parameters = {'mu' : [10, 30],\n",
    "                   'sigma' : 3, \n",
    "                   'w' : [0.3, 0.7], \n",
    "                   'N_obs' : 1000}\n",
    "\n",
    "simu = simulation.sampling(data = simu_parameters, algorithm = \"Fixed_param\", \n",
    "                     iter = 1, chains = 1, seed = 19920715)\n",
    "\n",
    "# plot the simulation\n",
    "y_simu = sim.extract(['y'])['y'][0]\n",
    "plt.hist(y_simu, alpha = 0.5);\n",
    "\n",
    "# dump the simulated data to a file\n",
    "simu_data = {'N_obs' : len(y_simu), 'y' : y_simu}\n",
    "data_file = 'data/simple_mixture.data.R'\n",
    "pystan.stan_rdump(simu_data, data_file)"
   ]
  },
  {
   "cell_type": "code",
   "execution_count": 74,
   "metadata": {
    "ExecuteTime": {
     "end_time": "2018-05-20T12:21:47.344962Z",
     "start_time": "2018-05-20T12:21:47.331325Z"
    }
   },
   "outputs": [
    {
     "name": "stdout",
     "output_type": "stream",
     "text": [
      "Using cached StanModel\n"
     ]
    }
   ],
   "source": [
    "# compile the stan model\n",
    "model_file = 'stan/simple_mixture.stan'\n",
    "model = stan_utility.compile_model(filename = model_file)"
   ]
  },
  {
   "cell_type": "code",
   "execution_count": 79,
   "metadata": {
    "ExecuteTime": {
     "end_time": "2018-05-20T12:29:17.212814Z",
     "start_time": "2018-05-20T12:29:14.165509Z"
    },
    "scrolled": true
   },
   "outputs": [
    {
     "name": "stderr",
     "output_type": "stream",
     "text": [
      "/Users/fran/projects/bayes/lib/python3.6/site-packages/pystan/misc.py:399: FutureWarning: Conversion of the second argument of issubdtype from `float` to `np.floating` is deprecated. In future, it will be treated as `np.float64 == np.dtype(float).type`.\n",
      "  elif np.issubdtype(np.asarray(v).dtype, float):\n"
     ]
    },
    {
     "name": "stdout",
     "output_type": "stream",
     "text": [
      "Inference for Stan model: anon_model_72b8af4e8332afb48865a8b41b83c449.\n",
      "4 chains, each with iter=1000; warmup=500; thin=1; \n",
      "post-warmup draws per chain=500, total post-warmup draws=2000.\n",
      "\n",
      "        mean se_mean     sd   2.5%    25%    50%    75%  97.5%  n_eff   Rhat\n",
      "w[0]    0.28  3.4e-4   0.01   0.26   0.27   0.28   0.29   0.31   1798    1.0\n",
      "w[1]    0.72  3.4e-4   0.01   0.69   0.71   0.72   0.73   0.74   1798    1.0\n",
      "mu[0]   9.98  4.9e-3   0.18   9.65   9.86   9.98   10.1  10.34   1301    1.0\n",
      "mu[1]   29.9  2.4e-3   0.11  29.69  29.82   29.9  29.97   30.1   2000    1.0\n",
      "sigma   2.99  1.7e-3   0.07   2.86   2.95   2.99   3.03   3.12   1621    1.0\n",
      "lp__   -3104    0.06   1.38  -3107  -3105  -3104  -3103  -3102    522    1.0\n",
      "\n",
      "Samples were drawn using NUTS at Sun May 20 14:29:17 2018.\n",
      "For each parameter, n_eff is a crude measure of effective sample size,\n",
      "and Rhat is the potential scale reduction factor on split chains (at \n",
      "convergence, Rhat=1).\n"
     ]
    }
   ],
   "source": [
    "# fit the stan model\n",
    "data = pystan.read_rdump(data_file)\n",
    "\n",
    "fit = model.sampling(data = data, iter = 1000, chains = 4, seed = 19920715)\n",
    "print(fit)"
   ]
  },
  {
   "cell_type": "code",
   "execution_count": 80,
   "metadata": {
    "ExecuteTime": {
     "end_time": "2018-05-20T12:29:21.955773Z",
     "start_time": "2018-05-20T12:29:21.759653Z"
    }
   },
   "outputs": [
    {
     "data": {
      "text/plain": [
       "<matplotlib.legend.Legend at 0x115e57978>"
      ]
     },
     "execution_count": 80,
     "metadata": {},
     "output_type": "execute_result"
    },
    {
     "data": {
      "image/png": "[encoded data removed]",
      "text/plain": [
       "<Figure size 432x288 with 1 Axes>"
      ]
     },
     "metadata": {},
     "output_type": "display_data"
    }
   ],
   "source": [
    "# plot the fit mu onto the simulated data\n",
    "mu = fit.extract(['mu'])['mu'][0]\n",
    "plt.hist(y_simu, label = 'simulation', alpha = 0.5);\n",
    "plt.vlines([mu[0], mu[1]], 0, 350, \n",
    "           linewidth = 7, alpha = 0.5, label = 'fit')\n",
    "plt.legend()"
   ]
  },
  {
   "cell_type": "markdown",
   "metadata": {},
   "source": [
    "## Explicit modelling of the association\n",
    "\n",
    "In more physical applications, we want to know the rigorous probability for the association of an observation $y_i$ with a population component $k$. In order to do this, we must consider the marginal probability. "
   ]
  },
  {
   "cell_type": "code",
   "execution_count": null,
   "metadata": {},
   "outputs": [],
   "source": []
  }
 ],
 "metadata": {
  "kernelspec": {
   "display_name": "Python (bayes)",
   "language": "python",
   "name": "bayes"
  },
  "language_info": {
   "codemirror_mode": {
    "name": "ipython",
    "version": 3
   },
   "file_extension": ".py",
   "mimetype": "text/x-python",
   "name": "python",
   "nbconvert_exporter": "python",
   "pygments_lexer": "ipython3",
   "version": "3.6.4"
  }
 },
 "nbformat": 4,
 "nbformat_minor": 2
}
