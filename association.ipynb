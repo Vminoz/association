{
 "cells": [
  {
   "cell_type": "markdown",
   "metadata": {},
   "source": [
    "# Association\n",
    "\n",
    "Modelling the explicit labelling of observations from different population components and comparison with standard mixture modelling and clustering techniques.\n",
    "\n",
    "Model definition and simulation is done in `pyStan` with code in the `stan/` directory."
   ]
  },
  {
   "cell_type": "code",
   "execution_count": 55,
   "metadata": {
    "ExecuteTime": {
     "end_time": "2018-05-20T11:11:29.055249Z",
     "start_time": "2018-05-20T11:11:29.048542Z"
    }
   },
   "outputs": [],
   "source": [
    "%matplotlib inline\n",
    "from matplotlib import pyplot as plt\n",
    "import pystan\n",
    "import vapeplot\n",
    "vapeplot.set_palette('sunset')"
   ]
  },
  {
   "cell_type": "markdown",
   "metadata": {},
   "source": [
    "## A simple mixture model\n",
    "\n",
    "Consider observations drawn from a mixture of 2 gaussian distributions with different means and the same standard deviation. Each population has an associated weight, $w$, the set of which forms a 2-simplex. The model can be parameterised with a latent categorical variable or *label*, $\\lambda$:\n",
    "\n",
    "<div><center>\n",
    "    $\\lambda \\sim Categorical(w)$   \n",
    "    <center></div>\n",
    "\n",
    "The observation $y_n$ is distributed according to which mixture componenet it is generated from.\n",
    "\n",
    "<div><center>\n",
    "    $y_n \\sim Normal(\\mu_n, \\sigma^2)$   \n",
    "    <center></div>\n",
    "    \n",
    "In order to treat this model in Stan, we marginalise over the discrete parameter:\n",
    "\n",
    "<div><center>\n",
    "    $p(y \\ | \\ w, \\mu, \\sigma) = \\sum_{k = 1}^2 Normal( y \\ | \\ \\mu_k, \\sigma^2) $  \n",
    "    <center></div>\n",
    "    \n",
    "  "
   ]
  },
  {
   "cell_type": "code",
   "execution_count": 36,
   "metadata": {
    "ExecuteTime": {
     "end_time": "2018-05-20T11:03:46.126414Z",
     "start_time": "2018-05-20T11:03:07.952754Z"
    }
   },
   "outputs": [
    {
     "name": "stderr",
     "output_type": "stream",
     "text": [
      "INFO:pystan:COMPILING THE C++ CODE FOR MODEL anon_model_2158d8774e195f442b1410958bbc38a6 NOW.\n"
     ]
    }
   ],
   "source": [
    "# compile the stan simulation\n",
    "simu_file = 'stan/simple_mixture_sim.stan'\n",
    "simulation = pystan.StanModel(file = simu_file)"
   ]
  },
  {
   "cell_type": "code",
   "execution_count": 56,
   "metadata": {
    "ExecuteTime": {
     "end_time": "2018-05-20T11:11:31.849652Z",
     "start_time": "2018-05-20T11:11:31.601295Z"
    }
   },
   "outputs": [
    {
     "name": "stderr",
     "output_type": "stream",
     "text": [
      "/Users/fran/projects/bayes/lib/python3.6/site-packages/pystan/misc.py:399: FutureWarning: Conversion of the second argument of issubdtype from `float` to `np.floating` is deprecated. In future, it will be treated as `np.float64 == np.dtype(float).type`.\n",
      "  elif np.issubdtype(np.asarray(v).dtype, float):\n"
     ]
    },
    {
     "data": {
      "image/png": "[encoded data removed]",
      "text/plain": [
       "<Figure size 432x288 with 1 Axes>"
      ]
     },
     "metadata": {},
     "output_type": "display_data"
    }
   ],
   "source": [
    "# Use stan to simulate draws from this mixutre model\n",
    "simu_parameters = {'mu' : [10, 30],\n",
    "                   'sigma' : 3, \n",
    "                   'w' : [0.3, 0.7], \n",
    "                   'N_obs' : 1000}\n",
    "\n",
    "sim = simulation.sampling(data = simu_parameters, algorithm = \"Fixed_param\", \n",
    "                     iter = 1, chains = 1, seed = 19920715)\n",
    "\n",
    "# plot the simulation\n",
    "y_simu = sim.extract(['y'])['y'][0]\n",
    "plt.hist(y_simu, alpha = 0.5);\n",
    "\n",
    "# dump the data to a file"
   ]
  },
  {
   "cell_type": "code",
   "execution_count": 50,
   "metadata": {
    "ExecuteTime": {
     "end_time": "2018-05-20T11:09:57.426104Z",
     "start_time": "2018-05-20T11:09:18.929708Z"
    }
   },
   "outputs": [
    {
     "name": "stderr",
     "output_type": "stream",
     "text": [
      "INFO:pystan:COMPILING THE C++ CODE FOR MODEL anon_model_c02059569c809aa9505b9ee8cfaaca95 NOW.\n"
     ]
    }
   ],
   "source": [
    "# compile the stan model\n",
    "model_file = 'stan/simple_mixture.stan'\n",
    "model = pystan.StanModel(file = model_file)"
   ]
  },
  {
   "cell_type": "code",
   "execution_count": 51,
   "metadata": {
    "ExecuteTime": {
     "end_time": "2018-05-20T11:10:01.303785Z",
     "start_time": "2018-05-20T11:09:58.350218Z"
    },
    "scrolled": true
   },
   "outputs": [
    {
     "name": "stderr",
     "output_type": "stream",
     "text": [
      "/Users/fran/projects/bayes/lib/python3.6/site-packages/pystan/misc.py:399: FutureWarning: Conversion of the second argument of issubdtype from `float` to `np.floating` is deprecated. In future, it will be treated as `np.float64 == np.dtype(float).type`.\n",
      "  elif np.issubdtype(np.asarray(v).dtype, float):\n"
     ]
    },
    {
     "name": "stdout",
     "output_type": "stream",
     "text": [
      "Inference for Stan model: anon_model_c02059569c809aa9505b9ee8cfaaca95.\n",
      "4 chains, each with iter=1000; warmup=500; thin=1; \n",
      "post-warmup draws per chain=500, total post-warmup draws=2000.\n",
      "\n",
      "        mean se_mean     sd   2.5%    25%    50%    75%  97.5%  n_eff   Rhat\n",
      "w[0]    0.28  3.4e-4   0.01   0.26   0.27   0.28   0.29   0.31   1798    1.0\n",
      "w[1]    0.72  3.4e-4   0.01   0.69   0.71   0.72   0.73   0.74   1798    1.0\n",
      "mu[0]   9.98  4.9e-3   0.18   9.65   9.86   9.98   10.1  10.34   1301    1.0\n",
      "mu[1]   29.9  2.4e-3   0.11  29.69  29.82   29.9  29.97   30.1   2000    1.0\n",
      "sigma   2.99  1.7e-3   0.07   2.86   2.95   2.99   3.03   3.12   1621    1.0\n",
      "lp__   -3104    0.06   1.38  -3107  -3105  -3104  -3103  -3102    522    1.0\n",
      "\n",
      "Samples were drawn using NUTS at Sun May 20 13:10:01 2018.\n",
      "For each parameter, n_eff is a crude measure of effective sample size,\n",
      "and Rhat is the potential scale reduction factor on split chains (at \n",
      "convergence, Rhat=1).\n"
     ]
    }
   ],
   "source": [
    "# fit the stan model\n",
    "data = {'N_obs' : len(y_simu),\n",
    "        'y' : y_simu}\n",
    "\n",
    "fit = model.sampling(data = data, iter = 1000, chains = 4, seed = 19920715)\n",
    "print(fit)"
   ]
  },
  {
   "cell_type": "code",
   "execution_count": 52,
   "metadata": {
    "ExecuteTime": {
     "end_time": "2018-05-20T11:10:05.736504Z",
     "start_time": "2018-05-20T11:10:05.543788Z"
    }
   },
   "outputs": [
    {
     "data": {
      "text/plain": [
       "<matplotlib.legend.Legend at 0x11854aef0>"
      ]
     },
     "execution_count": 52,
     "metadata": {},
     "output_type": "execute_result"
    },
    {
     "data": {
      "image/png": "[encoded data removed]",
      "text/plain": [
       "<Figure size 432x288 with 1 Axes>"
      ]
     },
     "metadata": {},
     "output_type": "display_data"
    }
   ],
   "source": [
    "# plot the fit mu onto the simulated data\n",
    "mu = fit.extract(['mu'])['mu'][0]\n",
    "plt.hist(y_simu, label = 'simulation');\n",
    "plt.vlines([mu[0], mu[1]], 0, 350, color = 'darkblue', \n",
    "           linewidth = 7, alpha = 0.5, label = 'fit')\n",
    "plt.legend()"
   ]
  },
  {
   "cell_type": "code",
   "execution_count": null,
   "metadata": {},
   "outputs": [],
   "source": []
  }
 ],
 "metadata": {
  "kernelspec": {
   "display_name": "Python (bayes)",
   "language": "python",
   "name": "bayes"
  },
  "language_info": {
   "codemirror_mode": {
    "name": "ipython",
    "version": 3
   },
   "file_extension": ".py",
   "mimetype": "text/x-python",
   "name": "python",
   "nbconvert_exporter": "python",
   "pygments_lexer": "ipython3",
   "version": "3.6.4"
  }
 },
 "nbformat": 4,
 "nbformat_minor": 2
}
